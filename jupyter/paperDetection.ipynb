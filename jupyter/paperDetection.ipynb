{
 "cells": [
  {
   "cell_type": "code",
   "execution_count": null,
   "metadata": {},
   "outputs": [],
   "source": [
    "import cv2\n",
    "import numpy as np\n",
    "import glob\n",
    "\n",
    "# ファイル一覧\n",
    "files = glob.glob('recipt/*')\n",
    "sigma = 0.33\n",
    "for file in files:\n",
    "    # 画像読み込み\n",
    "    paper = cv2.imread(file)\n",
    "    # グレースケール\n",
    "    gray = cv2.cvtColor(paper, cv2.COLOR_BGR2GRAY)\n",
    "    bit = cv2.bilateralFilter(gray, 9, 75, 75)\n",
    "    two = cv2.adaptiveThreshold(bit, 255, cv2.ADAPTIVE_THRESH_GAUSSIAN_C, cv2.THRESH_BINARY, 115, 4)\n",
    "    blur = cv2.medianBlur(two, 11)\n",
    "    border = cv2.copyMakeBorder(blur, 5, 5, 5, 5, cv2.BORDER_CONSTANT, value=[0, 0, 0])\n",
    "    # 二値化\n",
    "    v = np.median(border)\n",
    "    lower = int(max(0, (1.0 - sigma) * v))\n",
    "    upper = int(min(255, (1.0 + sigma) * v))\n",
    "    canny = cv2.Canny(border, lower, upper)\n",
    "    cv2.imwrite('mask'+file, canny)\n",
    "    # 輪郭検出\n",
    "    contours = cv2.findContours(canny, cv2.RETR_LIST,cv2.CHAIN_APPROX_SIMPLE)[0]\n",
    "    contours.sort(key=cv2.contourArea, reverse=True)\n",
    "    # 緑枠描写\n",
    "    warp = None\n",
    "    for con in contours:\n",
    "        arclen = cv2.arcLength(con, True)\n",
    "        approx = cv2.approxPolyDP(con, 0.02*arclen, True)\n",
    "        if len(approx) == 4:\n",
    "            cv2.drawContours(paper, [approx], -1, (0, 255, 0),5)\n",
    "            break\n",
    "    cv2.imwrite('done'+file, paper)"
   ]
  }
 ],
 "metadata": {
  "kernelspec": {
   "display_name": "Python 3",
   "language": "python",
   "name": "python3"
  },
  "language_info": {
   "codemirror_mode": {
    "name": "ipython",
    "version": 3
   },
   "file_extension": ".py",
   "mimetype": "text/x-python",
   "name": "python",
   "nbconvert_exporter": "python",
   "pygments_lexer": "ipython3",
   "version": "3.8.5"
  }
 },
 "nbformat": 4,
 "nbformat_minor": 4
}
